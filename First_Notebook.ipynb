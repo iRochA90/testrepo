{
 "cells": [
  {
   "cell_type": "code",
   "execution_count": 1,
   "id": "7d913d00",
   "metadata": {},
   "outputs": [
    {
     "ename": "SyntaxError",
     "evalue": "Missing parentheses in call to 'print'. Did you mean print(...)? (2803991410.py, line 1)",
     "output_type": "error",
     "traceback": [
      "\u001b[0;36m  Cell \u001b[0;32mIn[1], line 1\u001b[0;36m\u001b[0m\n\u001b[0;31m    print{\"Hello World!\"}\u001b[0m\n\u001b[0m    ^\u001b[0m\n\u001b[0;31mSyntaxError\u001b[0m\u001b[0;31m:\u001b[0m Missing parentheses in call to 'print'. Did you mean print(...)?\n"
     ]
    }
   ],
   "source": [
    "print{\"Hello World!\"}"
   ]
  },
  {
   "cell_type": "code",
   "execution_count": 2,
   "id": "595bafa2",
   "metadata": {},
   "outputs": [
    {
     "name": "stdout",
     "output_type": "stream",
     "text": [
      "Hello World!\n"
     ]
    }
   ],
   "source": [
    "print(\"Hello World!\")"
   ]
  },
  {
   "cell_type": "markdown",
   "id": "ea98fd34",
   "metadata": {},
   "source": [
    "Jesus is Lord of all"
   ]
  },
  {
   "cell_type": "markdown",
   "id": "d71491bf",
   "metadata": {},
   "source": [
    "##Jesus is the Lord\n",
    "Glory to Him alone! "
   ]
  },
  {
   "cell_type": "code",
   "execution_count": 3,
   "id": "26244f52",
   "metadata": {},
   "outputs": [
    {
     "name": "stdout",
     "output_type": "stream",
     "text": [
      "3\n"
     ]
    }
   ],
   "source": [
    "one = 1\n",
    "two = 2\n",
    "print(one + two)"
   ]
  },
  {
   "cell_type": "markdown",
   "id": "1b692999",
   "metadata": {},
   "source": [
    "##Jesus is Lord"
   ]
  },
  {
   "cell_type": "markdown",
   "id": "0cf60732",
   "metadata": {},
   "source": [
    "## Jesus is Lord\n",
    "Glory to Him alone!"
   ]
  },
  {
   "cell_type": "code",
   "execution_count": 2,
   "id": "bbf44c6c",
   "metadata": {},
   "outputs": [
    {
     "name": "stdout",
     "output_type": "stream",
     "text": [
      "Jesus is the Lord of all!\n"
     ]
    }
   ],
   "source": [
    "print(\"Jesus is the Lord of all!\")"
   ]
  },
  {
   "cell_type": "code",
   "execution_count": 1,
   "id": "b5d88128",
   "metadata": {},
   "outputs": [
    {
     "name": "stdout",
     "output_type": "stream",
     "text": [
      "Jesus is the Lord of all!\n"
     ]
    }
   ],
   "source": [
    "print(\"Jesus is the Lord of all!\")"
   ]
  },
  {
   "cell_type": "code",
   "execution_count": 2,
   "id": "4373dd79",
   "metadata": {},
   "outputs": [],
   "source": [
    "#Jesus is Lord"
   ]
  }
 ],
 "metadata": {
  "kernelspec": {
   "display_name": "Python 3 (ipykernel)",
   "language": "python",
   "name": "python3"
  },
  "language_info": {
   "codemirror_mode": {
    "name": "ipython",
    "version": 3
   },
   "file_extension": ".py",
   "mimetype": "text/x-python",
   "name": "python",
   "nbconvert_exporter": "python",
   "pygments_lexer": "ipython3",
   "version": "3.10.9"
  }
 },
 "nbformat": 4,
 "nbformat_minor": 5
}
